{
 "cells": [
  {
   "cell_type": "markdown",
   "metadata": {},
   "source": [
    "Ejercicio - Escribir declaraciones if, else, y elif"
   ]
  },
  {
   "cell_type": "code",
   "execution_count": 4,
   "metadata": {},
   "outputs": [
    {
     "name": "stdout",
     "output_type": "stream",
     "text": [
      "Todo bien\n"
     ]
    }
   ],
   "source": [
    "asteroid_speed =49\n",
    "expresion = 'CUIDADO UN ASTEROIDE SE ACERCA'\n",
    "\n",
    "if asteroid_speed > 25 :\n",
    "    print(expresion)\n",
    "else:\n",
    "    print('Todo bien')\n",
    "\n"
   ]
  },
  {
   "cell_type": "code",
   "execution_count": 5,
   "metadata": {},
   "outputs": [
    {
     "name": "stdout",
     "output_type": "stream",
     "text": [
      "Sigue con tu vida\n"
     ]
    }
   ],
   "source": [
    "asteroid_speed = 19\n",
    "expresion_t = 'Busca una luz en el cielo'\n",
    "expresion_f = 'Sigue con tu vida'\n",
    "\n",
    "if asteroid_speed > 20:\n",
    "    print(expresion_t)\n",
    "elif asteroid_speed == 20:\n",
    "    print(expresion_t)\n",
    "else:\n",
    "    print(expresion_f)\n",
    "\n"
   ]
  },
  {
   "cell_type": "markdown",
   "metadata": {},
   "source": [
    "Ejercicio: Uso de operadores and y or"
   ]
  },
  {
   "cell_type": "code",
   "execution_count": 15,
   "metadata": {},
   "outputs": [
    {
     "name": "stdout",
     "output_type": "stream",
     "text": [
      "PELIGRO SE ACERCA UN ASTEROIDE\n"
     ]
    }
   ],
   "source": [
    "asteroid_speed = 26\n",
    "asteroid_size = 20\n",
    "message_danger = 'PELIGRO SE ACERCA UN ASTEROIDE'\n",
    "message_light = 'ATENCION BUSCA UNA LUZ EN EL CIELO'\n",
    "message_nothing = 'sigue con tu dia'\n",
    "\n",
    "if asteroid_speed < 25 and asteroid_speed < 20 and asteroid_size < 25 or asteroid_size > 1000:\n",
    "    print(message_nothing)\n",
    "elif asteroid_speed > 25 or asteroid_size >25 and asteroid_size < 1000:\n",
    "    print(message_danger)\n",
    "else:\n",
    "    print(message_light)"
   ]
  }
 ],
 "metadata": {
  "interpreter": {
   "hash": "37263a0bcf50ff73b51b5bf4a0fef04c02a3b14805fcc497288578e097ef5397"
  },
  "kernelspec": {
   "display_name": "Python 3.10.0 ('env': venv)",
   "language": "python",
   "name": "python3"
  },
  "language_info": {
   "codemirror_mode": {
    "name": "ipython",
    "version": 3
   },
   "file_extension": ".py",
   "mimetype": "text/x-python",
   "name": "python",
   "nbconvert_exporter": "python",
   "pygments_lexer": "ipython3",
   "version": "3.10.0"
  },
  "orig_nbformat": 4
 },
 "nbformat": 4,
 "nbformat_minor": 2
}
